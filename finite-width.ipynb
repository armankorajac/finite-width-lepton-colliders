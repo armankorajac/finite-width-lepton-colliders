{
 "cells": [
  {
   "cell_type": "markdown",
   "id": "c718e8b0",
   "metadata": {},
   "source": [
    "# Finite width effects on the lepton collider in simple collider processes"
   ]
  },
  {
   "cell_type": "markdown",
   "id": "c13ca19f",
   "metadata": {},
   "source": [
    "We are trying to understand the finite-width effects in simple $s$-channel processes like $\\mu^+ \\mu^- \\to Z^\\prime \\to \\ell \\bar{\\ell}$, where $Z^\\prime$ (or any other mediator) has a finite width. \\\n",
    "At lepton colliders, the PDFs are calculable (and are known), so we can use this knowledge to our advantage. The PDFs can be found in https://arxiv.org/pdf/2303.16964 or better here: https://github.com/DavidMarzocca/LePDF.\n",
    "\n",
    "One of the steps is to compare the analytic forms of the PDFs with the numerical ones, just out of control. We can import the numerical values of the PDFs through LHAPDF and interpolate numerically with scipy.\n",
    "\n",
    "Note that the LePDF files contain the values of $x \\times f(x)$! We however use $f(x)$."
   ]
  },
  {
   "cell_type": "code",
   "execution_count": 1,
   "id": "ab62a696",
   "metadata": {},
   "outputs": [],
   "source": [
    "import os\n",
    "import numpy as np\n",
    "import matplotlib\n",
    "import matplotlib.pyplot as plt\n",
    "import scipy\n",
    "import matplotlib.colors\n",
    "\n",
    "from scipy.integrate import quad\n",
    "\n",
    "from scipy.interpolate import CubicSpline\n",
    "from scipy.interpolate import PchipInterpolator\n",
    "from scipy.interpolate import RegularGridInterpolator\n",
    "from scipy.interpolate import interp1d\n",
    "\n",
    "\n",
    "import lhapdf\n",
    "import sympy"
   ]
  },
  {
   "cell_type": "markdown",
   "id": "8f4fa87a",
   "metadata": {},
   "source": [
    "Plot styling:"
   ]
  },
  {
   "cell_type": "code",
   "execution_count": 2,
   "id": "5499a4ce",
   "metadata": {},
   "outputs": [],
   "source": [
    "matplotlib.rcParams['text.usetex'] = True\n",
    "matplotlib.rcParams['font.family'] = ['serif']\n",
    "matplotlib.rcParams['axes.labelsize'] = 18\n",
    "matplotlib.rcParams['xtick.labelsize'] = 18\n",
    "matplotlib.rcParams['ytick.labelsize'] = 18\n",
    "\n",
    "plt.rcParams['figure.dpi'] = 70"
   ]
  },
  {
   "cell_type": "markdown",
   "id": "2d51d5e2",
   "metadata": {},
   "source": [
    "Some nice colors:"
   ]
  },
  {
   "cell_type": "code",
   "execution_count": 3,
   "id": "3fffdd86",
   "metadata": {},
   "outputs": [],
   "source": [
    "niceGreenColors = ['#55a15c', '#87c27e','#add7a1'] \n",
    "niceGreenLine = ['#284c2b']\n",
    "\n",
    "flavioColors = ['#df9695', '#e9b8b8', '#f3dcdc']\n",
    "flavioLine = ['#c63d35']\n",
    "\n",
    "niceBlueColors = ['#3182bd','#6baed6','#9ecae1']\n",
    "niceBlueColorForLine = ['#316e96']\n",
    "\n",
    "niceOrangeColors = ['#ff5f00', '#ff7726', '#923600']\n",
    "\n",
    "lo_color = '#009DCF' #for the plot #1\n",
    "nlo_color = '#004F92'\n",
    "\n",
    "purpleColors = ['#35377e', '#4e50a7', '#7c7eb7']\n",
    "\n",
    "#cmsBrown = '#b86551'\n",
    "\n",
    "cmsBrown = '#73534b'\n",
    "\n",
    "orangeGinobetaR0 = '#fadfc2' #betaR = 0\n",
    "purpleGinobetaR1 = '#d9bfdc' #betaR = 1\n",
    "tab20cblue = plt.cm.tab20c(0)"
   ]
  },
  {
   "cell_type": "markdown",
   "id": "2d329c46",
   "metadata": {},
   "source": [
    "Set the folder:"
   ]
  },
  {
   "cell_type": "code",
   "execution_count": 4,
   "id": "65703469",
   "metadata": {},
   "outputs": [],
   "source": [
    "os.chdir(\"/home/armanubuntu/finite-width-lepton-colliders\")"
   ]
  },
  {
   "cell_type": "markdown",
   "id": "693053ea",
   "metadata": {},
   "source": [
    "The PDF functions written in analytic form:\n"
   ]
  },
  {
   "cell_type": "code",
   "execution_count": 5,
   "id": "6fbe682e",
   "metadata": {},
   "outputs": [],
   "source": [
    "# Utility functions\n",
    "def theta(x):\n",
    "    \"\"\"Heaviside step function.\"\"\"\n",
    "    return np.where(np.array(x) > 0, 1.0, 0.0)\n",
    "\n",
    "def delta_gaussian(x, sigma=1e-3):\n",
    "    \"\"\"Narrow Gaussian approximation to δ(1-x).\"\"\"\n",
    "    x = np.asarray(x)\n",
    "    norm = 1.0 / (sigma * np.sqrt(2.0 * np.pi))\n",
    "    return norm * np.exp(-0.5 * ((x - 1.0) / sigma)**2)\n",
    "\n",
    "\n",
    "# -----------------------------------------------------------------------------\n",
    "# 1. f_mu^(alpha^2)(x,t)\n",
    "# -----------------------------------------------------------------------------\n",
    "def f_mu_alpha2(x, t, alpha_gamma, P_Vff, I_VVf=None, I_ffff=None, delta=delta_gaussian):\n",
    "    x = np.asarray(x)\n",
    "    dg = delta(x)\n",
    "    P = np.asarray(P_Vff(x))\n",
    "    I_V = np.asarray(I_VVf(x)) if I_VVf is not None else np.zeros_like(x)\n",
    "    I_f = np.asarray(I_ffff(x)) if I_ffff is not None else np.zeros_like(x)\n",
    "    pref = alpha_gamma / (2.0 * np.pi)\n",
    "    term1 = dg\n",
    "    term2 = pref * t * (1.5 * dg + P)\n",
    "    term3 = 0.5 * (pref * t)**2 * (2.25 * dg + 3.0 * P + I_V + I_f)\n",
    "    return term1 + term2 + term3\n",
    "\n",
    "\n",
    "# -----------------------------------------------------------------------------\n",
    "# 2. f_lsea^(alpha^2)(x,t)\n",
    "# -----------------------------------------------------------------------------\n",
    "def f_lsea_alpha2(x, t, alpha_gamma, I_VVf, delta=delta_gaussian):\n",
    "    x = np.asarray(x)\n",
    "    I_V = np.asarray(I_VVf(x))\n",
    "    pref = alpha_gamma / (2.0 * np.pi)\n",
    "    return 0.5 * (pref * t)**2 * I_V\n",
    "\n",
    "\n",
    "# -----------------------------------------------------------------------------\n",
    "# 3. f_gamma^(alpha^2)(x,t)\n",
    "# -----------------------------------------------------------------------------\n",
    "def f_gamma_alpha2(x, t, alpha_gamma, P_Vf, I_Vfff=None, Nf_QED=0):\n",
    "    x = np.asarray(x)\n",
    "    P = np.asarray(P_Vf(x))\n",
    "    Ifff = np.asarray(I_Vfff(x)) if I_Vfff is not None else np.zeros_like(x)\n",
    "    pref = alpha_gamma / (2.0 * np.pi)\n",
    "    term1 = pref * t * P\n",
    "    term2 = 0.5 * (pref * t)**2 * ((1.5 - 2.0/3.0 * Nf_QED) * P + Ifff)\n",
    "    return term1 + term2\n",
    "\n",
    "\n",
    "# -----------------------------------------------------------------------------\n",
    "# 4. f_W±^(alpha)(x,Q^2)\n",
    "# -----------------------------------------------------------------------------\n",
    "def f_Wpm_alpha(x, Q2, alpha2, P_Vpm_fL, mW, m_mu):\n",
    "    x = np.asarray(x)\n",
    "    P = np.asarray(P_Vpm_fL(x))\n",
    "    denom = Q2 + (1.0 - x) * mW**2\n",
    "    denom = np.where(denom == 0, np.finfo(float).tiny, denom)\n",
    "    logterm = np.log((Q2 + (1.0 - x) * mW**2) / (m_mu**2 + (1.0 - x) * mW**2))\n",
    "    return (alpha2 / (8.0 * np.pi)) * P * (logterm - Q2 / denom)\n",
    "\n",
    "\n",
    "# -----------------------------------------------------------------------------\n",
    "# 5. f_WL^(alpha)(x,Q^2)\n",
    "# -----------------------------------------------------------------------------\n",
    "def f_WL_alpha(x, Q2, alpha2, mW):\n",
    "    x = np.asarray(x)\n",
    "    safe_x = np.where(x == 0, np.finfo(float).tiny, x)\n",
    "    denom = Q2 + (1.0 - x) * mW**2\n",
    "    denom = np.where(denom == 0, np.finfo(float).tiny, denom)\n",
    "    return (alpha2 / (4.0 * np.pi)) * ((1.0 - x) / safe_x) * (Q2 / denom)\n",
    "\n",
    "\n",
    "# -----------------------------------------------------------------------------\n",
    "# 6. f_Z±^(alpha)(x,Q^2)\n",
    "# -----------------------------------------------------------------------------\n",
    "def f_Zpm_alpha(x, Q2, alpha2, cW, P_Vpm_fL, P_Vpm_fR, QZ_muL, QZ_muR, mZ, m_mu):\n",
    "    x = np.asarray(x)\n",
    "    P_L = np.asarray(P_Vpm_fL(x))\n",
    "    P_R = np.asarray(P_Vpm_fR(x))\n",
    "    prefP = P_L * (QZ_muL**2) + P_R * (QZ_muR**2)\n",
    "    denom = Q2 + (1.0 - x) * mZ**2\n",
    "    denom = np.where(denom == 0, np.finfo(float).tiny, denom)\n",
    "    logterm = np.log((Q2 + (1.0 - x) * mZ**2) / (m_mu**2 + (1.0 - x) * mZ**2))\n",
    "    return (alpha2 / (4.0 * np.pi * cW**2)) * prefP * (logterm - Q2 / denom)\n",
    "\n",
    "\n",
    "# -----------------------------------------------------------------------------\n",
    "# 7. f_{Z/gamma ±}^{(alpha)}(x,Q^2)\n",
    "# -----------------------------------------------------------------------------\n",
    "def f_Zgamma_pm_alpha(x, Q2, alpha_gamma, alpha2, cW, P_Vpm_fL, P_Vpm_fR, QZ_muL, QZ_muR, mZ, m_mu):\n",
    "    x = np.asarray(x)\n",
    "    P_L = np.asarray(P_Vpm_fL(x))\n",
    "    P_R = np.asarray(P_Vpm_fR(x))\n",
    "    prefP = P_L * QZ_muL + P_R * QZ_muR\n",
    "    logterm = np.log((Q2 + (1.0 - x) * mZ**2) / (m_mu**2 + (1.0 - x) * mZ**2))\n",
    "    return - np.sqrt(alpha_gamma * alpha2) / (2.0 * np.pi * cW) * prefP * logterm\n",
    "\n",
    "\n",
    "# -----------------------------------------------------------------------------\n",
    "# 8. f_ZL^(alpha)(x,Q^2)\n",
    "# -----------------------------------------------------------------------------\n",
    "def f_ZL_alpha(x, Q2, alpha2, cW, QZ_muL, QZ_muR, mZ):\n",
    "    x = np.asarray(x)\n",
    "    safe_x = np.where(x == 0, np.finfo(float).tiny, x)\n",
    "    denom = Q2 + (1.0 - x) * mZ**2\n",
    "    denom = np.where(denom == 0, np.finfo(float).tiny, denom)\n",
    "    prefQ = (QZ_muL**2 + QZ_muR**2)\n",
    "    return (alpha2 / (2.0 * np.pi * cW**2)) * ((1.0 - x) / safe_x) * prefQ * (Q2 / denom)\n",
    "\n",
    "\n",
    "# -----------------------------------------------------------------------------\n",
    "# 9. f_nu_mu^(alpha)(x,Q^2)\n",
    "# -----------------------------------------------------------------------------\n",
    "def f_nu_mu_alpha(x, Q2, alpha2, P_Vff, mW):\n",
    "    x = np.asarray(x)\n",
    "    P = np.asarray(P_Vff(x))\n",
    "    threshold = mW**2 / (1.0 - x)**2\n",
    "    th = theta(Q2 - threshold)\n",
    "    denom = Q2 + x * mW**2\n",
    "    denom = np.where(denom == 0, np.finfo(float).tiny, denom)\n",
    "    term_log1 = np.log((Q2 + x * mW**2) / (mW**2))\n",
    "    term_log2 = np.log(((1.0 - x)**2) / (1.0 + x * (1.0 - x)**2))\n",
    "    term_frac = x * mW**2 / denom\n",
    "    term_last = 1.0 / (1.0 + x * (1.0 - x)**2) - 1.0\n",
    "    bracket = term_log1 + term_log2 + term_frac + term_last\n",
    "    return (alpha2 / (8.0 * np.pi)) * th * P * bracket\n",
    "\n",
    "\n",
    "# -----------------------------------------------------------------------------\n",
    "# Placeholders for user-supplied functions\n",
    "# -----------------------------------------------------------------------------\n",
    "# Replace these later with your model-dependent definitions:\n",
    "def P_Vff(x): raise NotImplementedError(\"Define your P_Vff(x)\")\n",
    "def P_Vpm_fL(x): raise NotImplementedError(\"Define your P_Vpm_fL(x)\")\n",
    "def P_Vpm_fR(x): raise NotImplementedError(\"Define your P_Vpm_fR(x)\")\n",
    "def I_VVf(x): raise NotImplementedError(\"Define your I_VVf(x)\")\n",
    "def I_ffff(x): raise NotImplementedError(\"Define your I_ffff(x)\")\n",
    "def I_Vfff(x): raise NotImplementedError(\"Define your I_Vfff(x)\")\n",
    "\n"
   ]
  },
  {
   "cell_type": "markdown",
   "id": "43607d1e",
   "metadata": {},
   "source": [
    "Loading the PDFs from the LHAPDF files:"
   ]
  },
  {
   "cell_type": "code",
   "execution_count": 6,
   "id": "bb7c92c2",
   "metadata": {},
   "outputs": [],
   "source": [
    "TeV = 1.0e3\n",
    "GeV = 1.0\n",
    "MeV = 1.0e-3\n",
    "keV = 1.0e-6\n",
    "eV = 1.0e-9\n",
    "\n",
    "me = 0.510998950*MeV\n",
    "mmu = 105.6584*MeV"
   ]
  },
  {
   "cell_type": "markdown",
   "id": "dd977660",
   "metadata": {},
   "source": [
    "Set which collider/initial lepton states we are using: "
   ]
  },
  {
   "cell_type": "code",
   "execution_count": 7,
   "id": "376eda9e",
   "metadata": {},
   "outputs": [
    {
     "name": "stdout",
     "output_type": "stream",
     "text": [
      "PdfType: central\n",
      "Format: lhagrid1\n",
      "---\n",
      "1.0000000000e-06 1.1877334415e-06 1.4088893211e-06 1.6690720710e-06 1.9747632557e-06 2.3334480638e-06 2.7537582837e-06 3.2456336402e-06 3.8205035479e-06 4.4914915161e-06 5.2736446449e-06 6.1841908524e-06 7.2428266946e-06 8.4720388665e-06 9.8974627083e-06 1.1548281287e-05 1.3457668878e-05 1.5663282917e-05 1.8207808784e-05 2.1139562004e-05 2.4513152750e-05 2.8390217790e-05 3.2840225243e-05 3.7941357825e-05 4.3781480427e-05 5.0459198155e-05 5.8085011119e-05 6.6782572466e-05 7.6690056272e-05 8.7961642059e-05 1.0076912274e-04 1.1530364285e-04 1.3177757387e-04 1.5042653344e-04 1.7151155498e-04 1.9532141414e-04 2.2217511819e-04 2.5242456399e-04 2.8645736981e-04 3.2469988560e-04 3.6762038586e-04 4.1573244802e-04 4.6959851890e-04 5.2983367044e-04 5.9710954469e-04 6.7215848719e-04 7.5577786596e-04 8.4883457213e-04 9.5226969648e-04 1.0671033743e-03 1.1944397893e-03 1.3354723245e-03 1.4914888473e-03 1.6638771123e-03 1.8541302629e-03 2.0638524128e-03 2.2947642814e-03 2.5487088601e-03 2.8276570782e-03 3.1337134390e-03 3.4691215916e-03 3.8362698016e-03 4.2376962815e-03 4.6760943397e-03 5.1543173028e-03 5.6753831654e-03 6.2424789193e-03 6.8589645091e-03 7.5283763647e-03 8.2544304546e-03 9.0410248056e-03 9.8922414325e-03 1.0812347621e-02 1.1805796510e-02 1.2877226906e-02 1.4031462292e-02 1.5273508957e-02 1.6608553203e-02 1.8041957579e-02 1.9579256085e-02 2.1226148313e-02 2.2988492466e-02 2.4872297236e-02 2.6883712497e-02 2.9029018778e-02 3.1314615518e-02 3.3747008057e-02 3.6332793380e-02 3.9078644594e-02 4.1991294150e-02 4.5077515833e-02 4.8344105519e-02 5.1797860755e-02 5.5445559182e-02 5.9293935862e-02 6.3349659555e-02 6.7619308024e-02 7.2109342433e-02 7.6826080934e-02 8.1775671516e-02 8.6964064249e-02 9.2396982998e-02 9.8079896753e-02 1.0401799068e-01 1.1021613705e-01 1.1667886614e-01 1.2341033729e-01 1.3041431025e-01 1.3769411699e-01 1.4525263407e-01 1.5309225573e-01 1.6121486804e-01 1.6962182388e-01 1.7831391938e-01 1.8729137158e-01 1.9655379766e-01 2.0610019585e-01 2.1592892818e-01 2.2603770512e-01 2.3642357232e-01 2.4708289958e-01 2.5801137205e-01 2.6920398391e-01 2.8065503448e-01 2.9235812692e-01 3.0430616954e-01 3.1649137982e-01 3.2890529111e-01 3.4153876210e-01 3.5438198898e-01 3.6742452038e-01 3.8065527502e-01 3.9406256199e-01 4.0763410374e-01 4.2135706154e-01 4.3521806344e-01 4.4920323467e-01 4.6329823022e-01 4.7748826966e-01 4.9175817391e-01 5.0609240396e-01 5.2047510123e-01 5.3489012955e-01 5.4932111852e-01 5.6375150807e-01 5.7816459402e-01 5.9254357451e-01 6.0687159704e-01 6.2113180600e-01 6.3530739039e-01 6.4938163158e-01 6.6333795099e-01 6.7715995737e-01 6.9083149356e-01 7.0433668252e-01 7.1765997247e-01 7.3078618098e-01 7.4370053775e-01 7.5638872611e-01 7.6883692289e-01 7.8103183665e-01 7.9296074414e-01 8.0461152483e-01 8.1597269345e-01 8.2703343050e-01 8.3778361055e-01 8.4821382837e-01 8.5831542287e-01 8.6808049876e-01 8.7750194598e-01 8.8657345690e-01 8.9528954131e-01 9.0364553934e-01 9.1163763227e-01 9.1926285139e-01 9.2651908505e-01 9.3340508402e-01 9.3992046531e-01 9.4606571477e-01 9.5184218854e-01 9.5725211382e-01 9.5829037040e-01 9.5931411516e-01 9.6032337847e-01 9.6131819210e-01 9.6229858920e-01 9.6326460432e-01 9.6421627341e-01 9.6515363381e-01 9.6607672427e-01 9.6698558492e-01 9.6788025729e-01 9.6876078432e-01 9.6962721034e-01 9.7047958108e-01 9.7131794368e-01 9.7214234668e-01 9.7295284001e-01 9.7374947502e-01 9.7453230447e-01 9.7530138252e-01 9.7605676473e-01 9.7679850811e-01 9.7752667105e-01 9.7824131338e-01 9.7894249635e-01 9.7963028262e-01 9.8030473630e-01 9.8096592292e-01 9.8161390946e-01 9.8224876434e-01 9.8287055741e-01 9.8347936000e-01 9.8407524489e-01 9.8465828632e-01 9.8522856001e-01 9.8578614315e-01 9.8633111445e-01 9.8686355408e-01 9.8738354375e-01 9.8789116666e-01 9.8838650756e-01 9.8886965273e-01 9.8934069002e-01 9.8979970882e-01 9.9024680011e-01 9.9068205649e-01 9.9110557215e-01 9.9151744292e-01 9.9191776627e-01 9.9230664136e-01 9.9268416903e-01 9.9305045183e-01 9.9340559408e-01 9.9374970184e-01 9.9408288297e-01 9.9440524718e-01 9.9471690603e-01 9.9501797297e-01 9.9530856340e-01 9.9558879469e-01 9.9585878624e-01 9.9611865952e-01 9.9636853810e-01 9.9660854777e-01 9.9683881653e-01 9.9705947470e-01 9.9727065495e-01 9.9747249243e-01 9.9766512482e-01 9.9784869243e-01 9.9802333827e-01 9.9818920823e-01 9.9834645112e-01 9.9849521884e-01 9.9863566654e-01 9.9876795273e-01 9.9889223951e-01 9.9900869273e-01 9.9911748221e-01 9.9921878201e-01 9.9931277070e-01 9.9939963163e-01 9.9947955337e-01 9.9955273002e-01 9.9961936176e-01 9.9967965536e-01 9.9973382485e-01 9.9978209222e-01 9.9982468843e-01 9.9986185444e-01 9.9989384263e-01 9.9992091853e-01 9.9994336307e-01 9.9996147553e-01 9.9997557770e-01 9.9998601978e-01 9.9999318966e-01 9.9999752861e-01 9.9999956312e-01 1.0000000000e+00\n",
      "9.943802e+00\t1.213360e+01\t1.480563e+01\t1.806608e+01\t2.204454e+01\t2.689913e+01\t3.282278e+01\t4.005092e+01\t4.887083e+01\t5.963303e+01\t7.276525e+01\t8.037900e+01\t9.807984e+01\t1.196787e+02\t1.460340e+02\t1.781932e+02\t2.174345e+02\t2.653173e+02\t3.237447e+02\t3.950389e+02\t4.820333e+02\t5.881853e+02\t7.177138e+02\t8.757668e+02\t1.068626e+03\t1.303956e+03\t1.591109e+03\t1.941499e+03\t2.369050e+03\t2.890756e+03\t3.527350e+03\t4.304134e+03\t5.251978e+03\t6.408554e+03\t7.819828e+03\t9.541889e+03\t1.164318e+04\t1.420721e+04\t1.733588e+04\t2.115354e+04\t2.581191e+04\t3.149614e+04\t3.843213e+04\t4.689555e+04\t5.722276e+04\n",
      "eL\teR\tnue\tmuL\tmuR\tnumu\ttaL\ttaR\tnuta\teLb\teRb\tnueb\tmuLb\tmuRb\tnumub\ttaLb\ttaRb\tnutab\tdL\tdR\tuL\tuR\tsL\tsR\tcL\tcR\tbL\tbR\tdLb\tdRb\tuLb\tuRb\tsLb\tsRb\tcLb\tcRb\tbLb\tbRb\tgp\tgm\tgap\tgam\tZp\tZm\tZL\tZgap\tZgam\tWpp\tWpm\tWpL\tWmp\tWmm\tWmL\th\thZL\n",
      "11\t11\t12\t13\t13\t14\t15\t15\t16\t-11\t-11\t-12\t-13\t-13\t-14\t-15\t-15\t-16\t1\t1\t2\t2\t3\t3\t4\t4\t5\t5\t-1\t-1\t-2\t-2\t-3\t-3\t-4\t-4\t-5\t-5\t21\t21\t22\t22\t23\t23\t23\t2223\t2223\t24\t24\t24\t-24\t-24\t-24\t25\t2523\n",
      "-\t+\t-\t-\t+\t-\t-\t+\t-\t+\t-\t+\t+\t-\t+\t+\t-\t+\t-\t+\t-\t+\t-\t+\t-\t+\t-\t+\t+\t-\t+\t-\t+\t-\t+\t-\t+\t-\t+\t-\t+\t-\t+\t-\t0\t+\t-\t+\t-\t0\t+\t-\t0\t0\t0\n",
      "3.733857e-05\t3.733857e-05\t0.000000e+00\t3.734445e-05\t3.734445e-05\t0.000000e+00\t2.303966e-05\t2.303966e-05\t0.000000e+00\t3.733857e-05\t3.733857e-05\t0.000000e+00\t3.733857e-05\t3.733857e-05\t0.000000e+00\t2.303966e-05\t2.303966e-05\t0.000000e+00\t1.153823e-04\t1.153823e-04\t1.530364e-04\t1.530364e-04\t1.153823e-04\t1.153823e-04\t1.341453e-04\t1.341453e-04\t6.523402e-05\t6.523402e-05\t1.153823e-04\t1.153823e-04\t1.530364e-04\t1.530364e-04\t1.153823e-04\t1.153823e-04\t1.341453e-04\t1.341453e-04\t6.523402e-05\t6.523402e-05\t6.534297e-03\t6.534297e-03\t1.068740e-02\t1.068740e-02\t0.000000e+00\t0.000000e+00\t0.000000e+00\t0.000000e+00\t0.000000e+00\t0.000000e+00\t0.000000e+00\t0.000000e+00\t0.000000e+00\t0.000000e+00\t0.000000e+00\t0.000000e+00\t0.000000e+00\n"
     ]
    }
   ],
   "source": [
    "with open(\"lePDFs/LePDF_mu_5FS_0000.dat\") as f:\n",
    "\n",
    "    for i in range(9):\n",
    "        print(f.readline().strip())\n",
    "    "
   ]
  },
  {
   "cell_type": "code",
   "execution_count": 8,
   "id": "6c4fe206",
   "metadata": {},
   "outputs": [],
   "source": [
    "def load_pdf_grid(path, ml = mmu):\n",
    "    with open(path) as f:\n",
    "        lines = f.readlines()\n",
    "\n",
    "    # Clean and strip lines\n",
    "    lines = [l.strip() for l in lines if l.strip()]\n",
    "\n",
    "    # Basic metadata\n",
    "    pdf_type = lines[0].split(\":\")[1].strip()\n",
    "    fmt = lines[1].split(\":\")[1].strip()\n",
    "\n",
    "    # Extract grids\n",
    "    x_grid = np.array(lines[3].split(), dtype=float)\n",
    "    q_grid = np.array(lines[4].split(), dtype=float)\n",
    "\n",
    "\n",
    "    print(\"The xgrid is\", len(x_grid))\n",
    "    print(\"The q_grid is\", len(q_grid))\n",
    "\n",
    "    # Labels and metadata\n",
    "    labels = lines[5].split()\n",
    "    pdg_ids = lines[6].split()\n",
    "    polarizations = lines[7].split()\n",
    "\n",
    "    nx = len(x_grid)\n",
    "    nq = len(q_grid)\n",
    "    n_flavs = len(labels)\n",
    "\n",
    "    print(\"nx is {0}, nq is {1}, and n_flavs is {2}\".format(nx, nq, n_flavs))\n",
    "\n",
    "    # The remaining lines are PDF values\n",
    "    # Fill array: shape = (nq, nx, n_flavs)\n",
    "    # NOTE: Mathematica fills columns first (fixed x, vary Q),\n",
    "    # while np.loadtxt reads rows. So we transpose the indexing logic.\n",
    "\n",
    "    data_lines = lines[8:]\n",
    "    data = np.zeros((nq, nx, n_flavs), dtype=float)\n",
    "\n",
    "    # In the LePDF files, each block corresponds to fixed x, varying Q.\n",
    "    # So we must read column-wise rather than row-wise.\n",
    "    # Convert to numeric array\n",
    "    flat_data = np.array([line.split() for line in data_lines], dtype=float)    # Load as a big array: shape = (nq, nx, n_flavs)\n",
    "\n",
    "    # We fix that by reshaping accordingly:\n",
    "    for i in range(n_flavs):\n",
    "        col = flat_data[:, i]\n",
    "        # Now reshape this flat column into (nx, nq) and transpose to (nq, nx)\n",
    "        col_reshaped = col.reshape(nx, nq).T\n",
    "        data[:, :, i] = col_reshaped\n",
    "\n",
    "\n",
    "\n",
    "    # Build the 2D interpolation functions\n",
    "    pdfs = {}\n",
    "    t_grid = np.log(q_grid**2 / ml**2)  # log(Q^2 / ml^2)\n",
    "    \n",
    "    for i, label in enumerate(labels):\n",
    "        # Step 1: for each x, interpolate along t (Q dimension)\n",
    "        interp_t_at_x = []\n",
    "        for ix in range(nx):\n",
    "            f_t = CubicSpline(t_grid, data[:, ix, i], bc_type='natural', extrapolate=False)\n",
    "            interp_t_at_x.append(f_t)\n",
    "        \n",
    "        # Step 2: define full PDF[Q](x) = x-interpolation of values f_t(Q)\n",
    "        def make_pdf_func(ix_interps):\n",
    "            def pdf_func(x, Q):\n",
    "                # get values at each x_i for given Q\n",
    "                t = np.log(Q**2 / ml**2)\n",
    "                vals = np.array([f_t(t) for f_t in ix_interps])\n",
    "                fx = CubicSpline(x_grid, vals, bc_type='natural', extrapolate=False)\n",
    "                return fx(x) / x  # divide by x as in David's code\n",
    "            return pdf_func \n",
    "        \n",
    "        pdfs[label] = make_pdf_func(interp_t_at_x)\n",
    "    \n",
    "    \n",
    "    return {\n",
    "        \"x\": x_grid,\n",
    "        \"Q\": q_grid,\n",
    "        \"labels\": labels,\n",
    "        \"pdg_ids\": pdg_ids,\n",
    "        \"polarizations\": polarizations,\n",
    "        \"pdfs\": pdfs,\n",
    "        \"pdf_type\": pdf_type,\n",
    "        \"format\": fmt\n",
    "    }\n"
   ]
  },
  {
   "cell_type": "markdown",
   "id": "66f67078",
   "metadata": {},
   "source": [
    "This function can be used like this:"
   ]
  },
  {
   "cell_type": "code",
   "execution_count": 9,
   "id": "b2a40b9b",
   "metadata": {},
   "outputs": [
    {
     "name": "stdout",
     "output_type": "stream",
     "text": [
      "The xgrid is 281\n",
      "The q_grid is 45\n",
      "nx is 281, nq is 45, and n_flavs is 55\n",
      "0.00826402397872833\n"
     ]
    }
   ],
   "source": [
    "grid = load_pdf_grid(\"lePDFs/LePDF_mu_5FS_0000.dat\", ml=mmu) # Make sure to set the lepton mass appropriately to the PDF set\n",
    "\n",
    "# Example: get uL PDF from a muon, at x=0.01, Q=100 GeV\n",
    "lepPDF = grid[\"pdfs\"][\"eL\"](0.01, 100.0)\n",
    "print(lepPDF)"
   ]
  },
  {
   "cell_type": "code",
   "execution_count": 10,
   "id": "9805d4e1",
   "metadata": {},
   "outputs": [
    {
     "data": {
      "text/plain": [
       "47.9795"
      ]
     },
     "execution_count": 10,
     "metadata": {},
     "output_type": "execute_result"
    }
   ],
   "source": [
    "x_grid = grid[\"x\"]\n",
    "q_grid = grid[\"Q\"]\n",
    "\n",
    "grid[\"pdfs\"][\"eL\"](x_grid[0], q_grid[3])\n"
   ]
  },
  {
   "cell_type": "markdown",
   "id": "09e1c9bf",
   "metadata": {},
   "source": [
    "Plot one of these functions:"
   ]
  },
  {
   "cell_type": "code",
   "execution_count": 11,
   "id": "966926b4",
   "metadata": {},
   "outputs": [
    {
     "data": {
      "image/png": "[encoded data removed]",
      "text/plain": [
       "<Figure size 576x396 with 1 Axes>"
      ]
     },
     "metadata": {
      "needs_background": "light"
     },
     "output_type": "display_data"
    }
   ],
   "source": [
    "y = (grid[\"pdfs\"][\"gam\"](x_grid, 3000) + grid[\"pdfs\"][\"gap\"](x_grid, 3000))\n",
    "\n",
    "fig, ax = plt.subplots(1,1, figsize=(8, 5.5))\n",
    "\n",
    "ax.plot(x_grid, y)\n",
    "ax.set_title(r\"PDF of $\\gamma$, $\\mu$Col, 5 FS\", fontsize = 18)\n",
    "ax.set_xlabel(r\"$x$\", fontsize = 18)\n",
    "ax.set_ylabel(r\"$f(x)$\", fontsize = 18)\n",
    "\n",
    "\n",
    "ax.set_yscale(\"log\")\n",
    "ax.set_ylim(1e-3, 100)\n",
    "ax.set_xscale(\"log\") \n",
    "ax.set_xlim(1e-3, 1)\n",
    "\n",
    "ax.text(x = 0.2, y = 20, s = r'$Q = 3$ TeV', fontsize = 18)\n",
    "\n",
    "\n",
    "plt.show()\n",
    "\n"
   ]
  },
  {
   "cell_type": "markdown",
   "id": "435f43f3",
   "metadata": {},
   "source": [
    "For the CP conjugated:"
   ]
  },
  {
   "cell_type": "code",
   "execution_count": 12,
   "id": "50e4860d",
   "metadata": {},
   "outputs": [
    {
     "name": "stdout",
     "output_type": "stream",
     "text": [
      "0.011623349639577474\n"
     ]
    }
   ],
   "source": [
    "ParticleList6FS = [\"eL\",\"eR\",\"nue\",\"muL\",\"muR\",\"numu\",\"taL\",\"taR\",\"nuta\",\"eLb\",\"eRb\",\"nueb\", \"muLb\", \"muRb\", \"numub\", \"taLb\", \"taRb\", \"nutab\", \"dL\", \"dR\", \"uL\", \"uR\", \"sL\", \"sR\", \"cL\", \"cR\", \"bL\", \"bR\", \"tL\",\"tR\",\n",
    "                   \"dLb\", \"dRb\", \"uLb\", \"uRb\", \"sLb\", \"sRb\", \"cLb\", \"cRb\", \"bLb\", \"bRb\", \"tLb\", \"tRb\", \n",
    "                   \"gp\", \"gm\", \"gap\", \"gam\", \"Zp\", \"Zm\",\"ZL\", \"Zgap\", \"Zgam\", \"Wpp\", \"Wpm\", \"WpL\", \"Wmp\", \"Wmm\", \"WmL\", \"h\", \"hZL\"]\n",
    "\n",
    "ParticleList6FSCP = [\"eLb\",\"eRb\", \"nueb\", \"muLb\", \"muRb\", \"numub\", \"taLb\", \"taRb\",\"nutab\", \"eL\", \"eR\", \"nue\", \"muL\", \"muR\", \"numu\",\"taL\",\"taR\",\"nuta\", \"dLb\", \"dRb\", \"uLb\", \"uRb\", \"sLb\", \"sRb\", \"cLb\", \"cRb\", \"bLb\", \"bRb\", \"tLb\", \"tRb\",\n",
    "                     \"dL\", \"dR\", \"uL\", \"uR\", \"sL\", \"sR\", \"cL\", \"cR\", \"bL\", \"bR\", \"tL\", \"tR\", \n",
    "                     \"gm\", \"gp\", \"gam\", \"gap\", \"Zm\", \"Zp\", \"ZL\", \"Zgam\", \"Zgap\", \"Wmm\", \"Wmp\", \"WmL\", \"Wpm\", \"Wpp\", \"WpL\", \"h\", \"hZL\"]\n",
    "\n",
    "def CPconjugate(particle):\n",
    "    if particle in ParticleList6FS:\n",
    "        index = ParticleList6FS.index(particle)\n",
    "        return ParticleList6FSCP[index]\n",
    "    else:\n",
    "        raise ValueError(f\"Particle '{particle}' not found in either list.\")\n",
    "\n",
    "# The CP conjugated example: get uL PDF from an anti-muon, at x=0.01, Q=100 GeV    \n",
    "lepbarPDF = grid[\"pdfs\"][CPconjugate(\"uL\")](0.01, 100.0)\n",
    "print(lepbarPDF)\n"
   ]
  },
  {
   "cell_type": "markdown",
   "id": "92bb74e6",
   "metadata": {},
   "source": [
    "Plot one of these functions:"
   ]
  },
  {
   "cell_type": "code",
   "execution_count": 13,
   "id": "24eae66a",
   "metadata": {},
   "outputs": [
    {
     "data": {
      "image/png": "[encoded data removed]",
      "text/plain": [
       "<Figure size 576x396 with 1 Axes>"
      ]
     },
     "metadata": {
      "needs_background": "light"
     },
     "output_type": "display_data"
    }
   ],
   "source": [
    "x_grid = grid[\"x\"]\n",
    "y = grid[\"pdfs\"][CPconjugate(\"uL\")](x_grid, 3000)\n",
    "\n",
    "fig, ax = plt.subplots(1,1, figsize=(8, 5.5))\n",
    "\n",
    "ax.plot(x_grid, y)\n",
    "ax.set_title(r\"PDF of $u_L$ from $\\bar{\\mu}$, $\\mu$Col, 5 FS\", fontsize = 18)\n",
    "ax.set_xlabel(r\"$x$\", fontsize = 18)\n",
    "ax.set_ylabel(r\"$f(x)$\", fontsize = 18)\n",
    "\n",
    "\n",
    "ax.set_yscale(\"log\")\n",
    "ax.set_ylim(1e-3, 100)\n",
    "ax.set_xscale(\"log\") \n",
    "ax.set_xlim(1e-3, 1)\n",
    "\n",
    "ax.text(x = 0.2, y = 20, s = r'$Q = 3$ TeV', fontsize = 18)\n",
    "\n",
    "\n",
    "plt.show()\n",
    "\n"
   ]
  },
  {
   "cell_type": "markdown",
   "id": "4eea15bb",
   "metadata": {},
   "source": [
    "Now that we have the PDFs, let us define the luminosity functions"
   ]
  },
  {
   "cell_type": "markdown",
   "id": "89400bfc",
   "metadata": {},
   "source": [
    "## Numerical parton luminosity functions (PLFs)"
   ]
  },
  {
   "cell_type": "markdown",
   "id": "d66068d3",
   "metadata": {},
   "source": [
    "The PLFs are defined as: \n",
    "\\begin{equation}\n",
    "\\mathcal{L}_{ij} (\\tau) = \\int_{\\tau}^{1} \\frac{dx}{x} f_i^{\\mu} \\left( x, Q \\right) f_j^{\\bar{\\mu}} (\\tau / x, Q)\n",
    "\\end{equation}\n",
    "\n",
    "where we can set $Q$ for example dynamically to $Q = \\sqrt{\\tau S_{\\rm had}}/2$."
   ]
  },
  {
   "cell_type": "code",
   "execution_count": 14,
   "id": "188979bf",
   "metadata": {},
   "outputs": [],
   "source": [
    "def parton_lumi(i, j, tau, Q):\n",
    "    \"\"\"Compute parton luminosity for partons i, j at given tau and scale Q.\"\"\"\n",
    "    def integrand(x):\n",
    "        xi = x\n",
    "        xj = tau / x\n",
    "        if xj > 1.0:\n",
    "            return 0.0\n",
    "        fi = grid[\"pdfs\"][i](xi, Q)\n",
    "        fj = grid[\"pdfs\"][j](xj, Q)\n",
    "        return fi * fj / x\n",
    "\n",
    "    result, error = quad(integrand, tau, 1.0)\n",
    "    return result"
   ]
  },
  {
   "cell_type": "code",
   "execution_count": 15,
   "id": "f8f62b06",
   "metadata": {},
   "outputs": [
    {
     "name": "stdout",
     "output_type": "stream",
     "text": [
      "Luminosity for uL from mu- and uL from mu+ at tau=0.1, Q=1000.0 GeV: 1.2417808884078734e-07\n"
     ]
    }
   ],
   "source": [
    "# Example: compute luminosity for uL from mu- and uL from mu+ at tau=0.1, Q=1 TeV\n",
    "tau = 0.1\n",
    "qVal = 1000.0\n",
    "lumi_uL_uLbar_val = parton_lumi(\"uL\", CPconjugate(\"uL\"), tau, qVal)\n",
    "print(f\"Luminosity for uL from mu- and uL from mu+ at tau={tau}, Q={qVal} GeV: {lumi_uL_uLbar_val}\")"
   ]
  },
  {
   "cell_type": "markdown",
   "id": "0f2e98e5",
   "metadata": {},
   "source": [
    "Let us now define a range of $\\tau$ and then calculate the PLF for a dynamically varying $Q$ and plot it:"
   ]
  },
  {
   "cell_type": "code",
   "execution_count": 16,
   "id": "06e254ed",
   "metadata": {},
   "outputs": [],
   "source": [
    "taus = np.logspace(-4, 0, 100)"
   ]
  },
  {
   "cell_type": "markdown",
   "id": "f0028bcd",
   "metadata": {},
   "source": [
    "Define the COM energy that we use:"
   ]
  },
  {
   "cell_type": "code",
   "execution_count": 17,
   "id": "d729fa33",
   "metadata": {},
   "outputs": [],
   "source": [
    "Shad = (3.0*TeV)**2  # don't forget, the PDFs are taking values in GeV, i.e. GeV^2 here"
   ]
  },
  {
   "cell_type": "code",
   "execution_count": 18,
   "id": "c740ccb4",
   "metadata": {},
   "outputs": [],
   "source": [
    "lumi_vals_uLuLbar = [parton_lumi(\"uL\", CPconjugate(\"uL\"), tau, np.sqrt(tau*Shad)/2) for tau in taus]"
   ]
  },
  {
   "cell_type": "code",
   "execution_count": 19,
   "id": "0bb7634f",
   "metadata": {},
   "outputs": [
    {
     "data": {
      "image/png": "[encoded data removed]",
      "text/plain": [
       "<Figure size 576x396 with 1 Axes>"
      ]
     },
     "metadata": {
      "needs_background": "light"
     },
     "output_type": "display_data"
    }
   ],
   "source": [
    "fig, ax = plt.subplots(1,1, figsize=(8, 5.5))\n",
    "ax.plot(taus, lumi_vals_uLuLbar)\n",
    "ax.set_title(r\"$\\mathcal{L}_{u_L u_L}$ from $\\mu^- \\mu^+$, $\\mu$Col, 5 FS\", fontsize = 18)\n",
    "ax.set_xlabel(r\"$\\tau$\", fontsize = 18)\n",
    "ax.set_ylabel(r\"$\\mathcal{L}_{u_L \\bar{u}_L}(\\tau)$\", fontsize = 18)\n",
    "\n",
    "ax.text(x = 0.05, y = 1e-5, s = r'$\\sqrt{S_{\\rm had}} = 3$ TeV', fontsize = 18)\n",
    "ax.set_xscale(\"log\")\n",
    "ax.set_yscale(\"log\")\n",
    "ax.set_xlim(1e-4, 1)\n",
    "ax.set_ylim(1e-12, 1e-3)  \n",
    "\n",
    "plt.show()"
   ]
  },
  {
   "cell_type": "markdown",
   "id": "487c07c8",
   "metadata": {},
   "source": [
    "There is a little problem with $\\mu$-PDFs, since they diverge close to $x \\sim 1$. \n",
    "As another example, take the PDFs from electrons."
   ]
  },
  {
   "cell_type": "code",
   "execution_count": 20,
   "id": "f8375b1e",
   "metadata": {},
   "outputs": [],
   "source": [
    "lumi_vals_eLeLbar = [parton_lumi(\"eL\", CPconjugate(\"eL\"), tau, np.sqrt(tau*Shad)/2) for tau in taus]"
   ]
  },
  {
   "cell_type": "code",
   "execution_count": 21,
   "id": "24b7a0f4",
   "metadata": {},
   "outputs": [
    {
     "data": {
      "image/png": "[encoded data removed]",
      "text/plain": [
       "<Figure size 576x396 with 1 Axes>"
      ]
     },
     "metadata": {
      "needs_background": "light"
     },
     "output_type": "display_data"
    }
   ],
   "source": [
    "fig, ax = plt.subplots(1,1, figsize=(8, 5.5))\n",
    "ax.plot(taus, lumi_vals_eLeLbar)\n",
    "ax.set_title(r\"$\\mathcal{L}_{e_L e_L}$ from $\\mu^- \\mu^+$, $\\mu$Col, 5 FS\", fontsize = 18)\n",
    "ax.set_xlabel(r\"$\\tau$\", fontsize = 18)\n",
    "ax.set_ylabel(r\"$\\mathcal{L}_{e_L \\bar{e}_L}(\\tau)$\", fontsize = 18)\n",
    "\n",
    "ax.text(x = 0.05, y = 1e-5, s = r'$\\sqrt{S_{\\rm had}} = 3$ TeV', fontsize = 18)\n",
    "ax.set_xscale(\"log\")\n",
    "ax.set_yscale(\"log\")\n",
    "ax.set_xlim(1e-4, 1)\n",
    "ax.set_ylim(1e-12, 1e-3)  \n",
    "\n",
    "plt.show()"
   ]
  },
  {
   "cell_type": "markdown",
   "id": "1eea5ad1",
   "metadata": {},
   "source": [
    "Let's also do photons, so we have something to compare with David's paper:"
   ]
  },
  {
   "cell_type": "code",
   "execution_count": 22,
   "id": "4201abab",
   "metadata": {},
   "outputs": [],
   "source": [
    "lumi_vals_gammagamma = [(parton_lumi(\"gap\", CPconjugate(\"gap\"), tau, np.sqrt(tau*Shad)/2) + parton_lumi(\"gam\", CPconjugate(\"gam\"), tau, np.sqrt(tau*Shad)/2)) for tau in taus]"
   ]
  },
  {
   "cell_type": "code",
   "execution_count": 23,
   "id": "ddcf8012",
   "metadata": {},
   "outputs": [
    {
     "data": {
      "image/png": "[encoded data removed]",
      "text/plain": [
       "<Figure size 576x396 with 1 Axes>"
      ]
     },
     "metadata": {
      "needs_background": "light"
     },
     "output_type": "display_data"
    }
   ],
   "source": [
    "fig, ax = plt.subplots(1,1, figsize=(8, 5.5))\n",
    "ax.plot(taus, lumi_vals_gammagamma)\n",
    "ax.set_title(r\"$\\mathcal{L}_{\\gamma \\gamma}$ from $\\mu^- \\mu^+$, $\\mu$Col, 5 FS\", fontsize = 18)\n",
    "ax.set_xlabel(r\"$\\tau$\", fontsize = 18)\n",
    "ax.set_ylabel(r\"$\\mathcal{L}_{\\gamma \\gamma}(\\tau)$\", fontsize = 18)\n",
    "\n",
    "ax.text(x = 0.05, y = 1e-5, s = r'$\\sqrt{S_{\\rm had}} = 3$ TeV', fontsize = 18)\n",
    "ax.set_xscale(\"log\")\n",
    "ax.set_yscale(\"log\")\n",
    "ax.set_xlim(1e-3, 1)\n",
    "ax.set_ylim(1e-7, 100)  \n",
    "\n",
    "plt.show()"
   ]
  },
  {
   "cell_type": "markdown",
   "id": "0db377b5",
   "metadata": {},
   "source": [
    "Alright! We have the PLFs. We need now information about the cross-section $\\sigma$.\n",
    "\n",
    "For now, we should focus getting a numerical result. So, let's say we have a $Z^\\prime$ that couples to whatever, gives me whatever..it can be something very simple for now, like $e_L^- e_L^+ \\to Z^\\prime \\to e_L^- e_L^+$ or whatever. The details are not important. Take a look at David's and Admir's paper. The only difference is I think the color factors and we are $\\textit{neglecting for now}$ the SM. We want to compare the narrow-width result to the Breit-Wigner numerical integration. \\\\\n",
    "\n",
    "So in principle we will deal with 3 results:\n",
    "1) NWA numerical (and analytical, since it's easy to derive it)\n",
    "2) BW numerical\n",
    "3) BW theoretical (hopefully)"
   ]
  },
  {
   "cell_type": "markdown",
   "id": "8534c4a4",
   "metadata": {},
   "source": [
    "## The convolution with the partonic cross-section; getting $\\sigma_{\\rm NWA}$ and $\\sigma_{\\rm BW}$"
   ]
  },
  {
   "cell_type": "markdown",
   "id": "73a223ae",
   "metadata": {},
   "source": [
    "We can for now ignore any details, it's just important that we agree on the partonic x-sec, and use the same for NWA and the BW case. See the Overleaf."
   ]
  },
  {
   "cell_type": "code",
   "execution_count": 24,
   "id": "f705dac4",
   "metadata": {},
   "outputs": [],
   "source": [
    "def xsecPartonicBW(tau, MZp, g4):\n",
    "    \"\"\"Example partonic cross-section for mu_L mu_L -> Z' -> mu_L mu_L, simple s-channel, Breit-Wigner.\"\"\"\n",
    "    \n",
    "    num = tau*Shad*g4**4 # simple s-channel\n",
    "\n",
    "    GammaZp = (g4**2) * MZp / (12.0 * np.pi)  # The width formula - assume only this decay channel!\n",
    "    breit_wigner = 1/((tau*Shad - MZp**2)**2 + MZp**2 * GammaZp**2)\n",
    "\n",
    "    return num * breit_wigner / (144.0 * np.pi)  # the 144 pi is just a made-up factor for now. Should be 36 I think, we don't have color\n",
    "\n",
    "\n",
    "def xsecHadronicIntegrandBW(tau, MZp, g4):\n",
    "    qVal = np.sqrt(tau * Shad) / 2.0\n",
    "    lumi = parton_lumi(\"eL\", CPconjugate(\"eL\"), tau, qVal)\n",
    "    sigma_hat = xsecPartonicBW(tau, MZp, g4)\n",
    "    return lumi * sigma_hat\n",
    "\n",
    "\n",
    "def xsecHadronicBW(MZp, g4):\n",
    "    \n",
    "    \"\"\"Hadronic cross-section via convolution with parton luminosities.\"\"\"\n",
    "\n",
    "    def integrand(tau):\n",
    "        func = xsecHadronicIntegrandBW(tau, MZp, g4)\n",
    "        return func\n",
    "\n",
    "    result, error = quad(integrand, (4*ml**2)/Shad, 1)\n",
    "    return result\n",
    "\n",
    "\n",
    "# For the NWA, the tau integration is trivial, since the delta function fixes tau = MZp^2/Shad\n",
    "# So we just need to evaluate the luminosity at that point and multiply by the partonic cross-section at that point\n",
    "\n",
    "def xsecPartonicNWA(MZp, g4):\n",
    "    \"\"\"Example partonic cross-section for mu_L mu_L -> Z' -> mu_L mu_L, simple s-channel, in the NWA.\"\"\"\n",
    "    #Don't forget the pi/m gamma factor from the delta function integration!\n",
    "    \n",
    "    num = ((MZp**2)/Shad)*g4**4 \n",
    "    # ehhh but the tau is set to ...m^2 / Shad no???\n",
    "\n",
    "    GammaZp = (g4**2) * MZp / (12.0 * np.pi)  # The width formula - assume only this decay channel!\n",
    "\n",
    "    convNWA = np.pi/(MZp*GammaZp)\n",
    "\n",
    "\n",
    "    return num * convNWA / (144.0 * np.pi)  # the 144 pi is just a made-up factor for now. Should be 36 I think, we don't have color\n",
    "\n",
    "\n",
    "\n",
    "\n",
    "def xsecHadronicNWA(MZp, g4):\n",
    "    qVal = MZp/2.0 # the dynamic scale choice transformed to a static due to the delta-function. \n",
    "    lumi = parton_lumi(\"eL\", CPconjugate(\"eL\"), MZp**2/Shad, qVal)\n",
    "    sigma_hat = xsecPartonicNWA(MZp, g4)\n",
    "    return lumi * sigma_hat\n",
    "\n",
    "\n",
    "\n",
    "def xsecBWvsNWARatio(MZp, g4):\n",
    "    \"\"\"Ratio of full finite-width cross-section to NWA cross-section. We simplify the relation to cure numerical issues with g4 -> 0\"\"\"\n",
    "    \n",
    "    GammaZp = (g4**2) * MZp / (12.0 * np.pi)\n",
    "\n",
    "    def integrand(tau):\n",
    "        qVal = np.sqrt(tau * Shad) / 2.0\n",
    "        func = tau * parton_lumi(\"eL\", CPconjugate(\"eL\"), tau, qVal) / (((tau*Shad - MZp**2)**2 + MZp**2 * GammaZp**2))\n",
    "        return func\n",
    "    \n",
    "    result, error = quad(integrand, (4*ml**2/Shad), 1)\n",
    "\n",
    "    return (Shad**2) * (GammaZp/(MZp*np.pi)) * result / parton_lumi(\"eL\", CPconjugate(\"eL\"), MZp**2/Shad, MZp/2.0)\n",
    "   \n",
    "    # Shad comes from sigma_BW, the other from sigma_NWA (M^2 / Shad = tau), Gamma/ (M pi) from the delta-function, and we have to divide by the luminosity at the resonance point. "
   ]
  },
  {
   "cell_type": "code",
   "execution_count": 25,
   "id": "62e64b1b",
   "metadata": {},
   "outputs": [],
   "source": [
    "MZpExample = 1000.0  # in GeV\n",
    "g4Example1 = 5.0\n",
    "g4Example2 = 1.0\n",
    "\n",
    "xsecHadronic_vals_eLeLbar_BW1 = [xsecHadronicIntegrandBW(tau, MZpExample, g4Example1) for tau in taus]\n",
    "xsecHadronic_vals_eLeLbar_BW2 = [xsecHadronicIntegrandBW(tau, MZpExample, g4Example2) for tau in taus]\n"
   ]
  },
  {
   "cell_type": "code",
   "execution_count": 26,
   "id": "b5eebf0f",
   "metadata": {},
   "outputs": [
    {
     "data": {
      "image/png": "[encoded data removed]",
      "text/plain": [
       "<Figure size 576x396 with 1 Axes>"
      ]
     },
     "metadata": {
      "needs_background": "light"
     },
     "output_type": "display_data"
    }
   ],
   "source": [
    "fig, ax = plt.subplots(1,1, figsize=(8, 5.5))\n",
    "ax.plot(taus, xsecHadronic_vals_eLeLbar_BW1, label = rf\"BW, $g_{4} = {g4Example1:.0f}$, BR = {1e2*g4Example1**2/(12.0*np.pi):.1f} \\%\", color = lo_color)\n",
    "ax.plot(taus, xsecHadronic_vals_eLeLbar_BW2, label =  rf\"BW, $g_{4} = {g4Example2:.0f}$, BR = {1e2*g4Example2**2/(12.0*np.pi):.1f} \\%\", color = nlo_color)\n",
    "\n",
    "ax.legend(fontsize = 16)\n",
    "ax.set_title(r\"Hadronic x-sec distro for $e_L \\bar{e}_L \\to Z' \\to e_L \\bar{e}_L$, $\\mu$Col, 5 FS\", fontsize = 18)\n",
    "ax.set_xlabel(r\"$\\tau$\", fontsize = 18)\n",
    "ax.set_ylabel(r\"$d\\sigma/d\\tau$ [$\\mathrm{GeV}^{-2}$]\", fontsize = 18)   \n",
    "ax.text(x = 2e-4, y = 1e-8, s = rf\"$M_{{Z^\\prime}} = {MZpExample*1e-3:.0f}\\,\\mathrm{{TeV}}$\", fontsize = 18)\n",
    "ax.set_xscale(\"log\")\n",
    "ax.set_yscale(\"log\")\n",
    "ax.set_xlim(1e-4, 1)\n",
    "ax.set_ylim(1e-18, 5e-6) \n",
    "plt.show()"
   ]
  },
  {
   "cell_type": "markdown",
   "id": "924fc3ed",
   "metadata": {},
   "source": [
    "Total hadronic cross-section (the integral of the curve above:)"
   ]
  },
  {
   "cell_type": "code",
   "execution_count": 29,
   "id": "9aab4447",
   "metadata": {},
   "outputs": [],
   "source": [
    "ml = mmu"
   ]
  },
  {
   "cell_type": "code",
   "execution_count": 30,
   "id": "30e5b847",
   "metadata": {},
   "outputs": [
    {
     "name": "stdout",
     "output_type": "stream",
     "text": [
      "BW vs NWA, g4 = 5:  2.7297364700125586e-14 3.6052587854114845e-14 0.7571540997440497\n",
      "BW vs NWA, g4 = 1:  3.679241038235482e-15 1.4421035141645938e-15 2.5513016243961206\n",
      "BW vs NWA, g4 = 0.25:  5.0974953700997256e-17 9.013146963528711e-17 0.565562216030262\n"
     ]
    }
   ],
   "source": [
    "xsecHadronic_val_BW1 = xsecHadronicBW(MZpExample, g4Example1)\n",
    "xsecHadronic_val_NWA1 = xsecHadronicNWA(MZpExample, g4Example1)\n",
    "\n",
    "xsecHadronic_val_BW2 = xsecHadronicBW(MZpExample, g4Example2)\n",
    "xsecHadronic_val_NWA2 = xsecHadronicNWA(MZpExample, g4Example2)\n",
    "\n",
    "xsecHadronic_val_BW3 = xsecHadronicBW(MZpExample, 0.25)\n",
    "xsecHadronic_val_NWA3 = xsecHadronicNWA(MZpExample, 0.25)\n",
    "\n",
    "\n",
    "\n",
    "print(\"BW vs NWA, g4 = 5: \", xsecHadronic_val_BW1, xsecHadronic_val_NWA1, xsecHadronic_val_BW1/xsecHadronic_val_NWA1)\n",
    "print(\"BW vs NWA, g4 = 1: \", xsecHadronic_val_BW2, xsecHadronic_val_NWA2, xsecHadronic_val_BW2/xsecHadronic_val_NWA2)\n",
    "print(\"BW vs NWA, g4 = 0.25: \", xsecHadronic_val_BW3, xsecHadronic_val_NWA3, xsecHadronic_val_BW3/xsecHadronic_val_NWA3)"
   ]
  },
  {
   "cell_type": "markdown",
   "id": "6b710173",
   "metadata": {},
   "source": [
    "The final $\\sigma_{\\rm BW}/ \\sigma_{\\rm NWA}$ vs. $g_4$ (and $\\Gamma$) plot:"
   ]
  },
  {
   "cell_type": "code",
   "execution_count": 31,
   "id": "198fe012",
   "metadata": {},
   "outputs": [],
   "source": [
    "MZpVal = [500.0, 1000.0, 1500.0] # in GeV\n",
    "g4val = np.linspace(0.01, 5.0, 50)\n",
    "xsecHadronic_over_g4 = [[xsecBWvsNWARatio(MZp, g4) for g4 in g4val] for MZp in MZpVal]\n",
    "\n",
    "np.save('xsecHadronic_MZpVal_g4val.npy', xsecHadronic_over_g4)"
   ]
  },
  {
   "cell_type": "markdown",
   "id": "32e08e16",
   "metadata": {},
   "source": [
    "No need to run the code above, just read the array:"
   ]
  },
  {
   "cell_type": "code",
   "execution_count": 32,
   "id": "a625059c",
   "metadata": {},
   "outputs": [],
   "source": [
    "xsecHadronic_over_g4 = np.load('xsecHadronic_MZpVal_g4val.npy')"
   ]
  },
  {
   "cell_type": "code",
   "execution_count": 33,
   "id": "a27767d0",
   "metadata": {},
   "outputs": [
    {
     "data": {
      "image/png": "[encoded data removed]",
      "text/plain": [
       "<Figure size 576x396 with 1 Axes>"
      ]
     },
     "metadata": {
      "needs_background": "light"
     },
     "output_type": "display_data"
    }
   ],
   "source": [
    "fig, ax = plt.subplots(1,1, figsize=(8, 5.5))\n",
    "for i in range(len(MZpVal)):\n",
    "    ax.plot(g4val, xsecHadronic_over_g4[i], label = rf\"$M_{{Z^\\prime}} = {MZpVal[i]*1e-3:.1f}\\,\\mathrm{{TeV}}$\", color = plt.cm.viridis(i/len(MZpVal)))\n",
    "ax.set_title(r\"$\\sigma_{\\rm BW}/\\sigma_{\\rm NWA}$ at lepton colliders\", fontsize = 18)\n",
    "ax.set_xlabel(r\"$g_4$\", fontsize = 18)\n",
    "ax.set_ylabel(r\"$\\sigma_{\\rm BW}/\\sigma_{\\rm NWA}$\", fontsize = 18)   \n",
    "ax.text(x = 3.5, y = 1.2, s = rf\"$S_{{had}} = {Shad*1e-3:.1f}\\,\\mathrm{{TeV}}$\", fontsize = 18)\n",
    "ax.set_xlim(0, 5)\n",
    "ax.set_ylim(0, 15)\n",
    "ax.legend(fontsize = 16)\n",
    "\n",
    "plt.show()"
   ]
  },
  {
   "cell_type": "markdown",
   "id": "6068aa3a",
   "metadata": {},
   "source": [
    "I think the problem is that if Shad is not much bigger than M^2, the BW-NWA analogy works. In the case of 1 TeV, everything is fine. What is this peak though? \\\n",
    "EDIT: Can be simply understood by ofc taking a derivative."
   ]
  },
  {
   "cell_type": "code",
   "execution_count": 38,
   "id": "5411be2d",
   "metadata": {},
   "outputs": [],
   "source": [
    "MZpVal = [500.0, 1000.0, 1500.0] # in GeV\n",
    "g4val = np.logspace(-4, 1, 50) #the -4 and 1 are exponents here\n",
    "xsecHadronic_over_g4 = [[xsecBWvsNWARatio(MZp, g4) for g4 in g4val] for MZp in MZpVal]\n",
    "\n",
    "np.save('xsecHadronic_MZpVal_g4val_log.npy', xsecHadronic_over_g4)"
   ]
  },
  {
   "cell_type": "code",
   "execution_count": 39,
   "id": "f47c0104",
   "metadata": {},
   "outputs": [
    {
     "data": {
      "text/plain": [
       "array([1.00000000e-04, 1.26485522e-04, 1.59985872e-04, 2.02358965e-04,\n",
       "       2.55954792e-04, 3.23745754e-04, 4.09491506e-04, 5.17947468e-04,\n",
       "       6.55128557e-04, 8.28642773e-04, 1.04811313e-03, 1.32571137e-03,\n",
       "       1.67683294e-03, 2.12095089e-03, 2.68269580e-03, 3.39322177e-03,\n",
       "       4.29193426e-03, 5.42867544e-03, 6.86648845e-03, 8.68511374e-03,\n",
       "       1.09854114e-02, 1.38949549e-02, 1.75751062e-02, 2.22299648e-02,\n",
       "       2.81176870e-02, 3.55648031e-02, 4.49843267e-02, 5.68986603e-02,\n",
       "       7.19685673e-02, 9.10298178e-02, 1.15139540e-01, 1.45634848e-01,\n",
       "       1.84206997e-01, 2.32995181e-01, 2.94705170e-01, 3.72759372e-01,\n",
       "       4.71486636e-01, 5.96362332e-01, 7.54312006e-01, 9.54095476e-01,\n",
       "       1.20679264e+00, 1.52641797e+00, 1.93069773e+00, 2.44205309e+00,\n",
       "       3.08884360e+00, 3.90693994e+00, 4.94171336e+00, 6.25055193e+00,\n",
       "       7.90604321e+00, 1.00000000e+01])"
      ]
     },
     "execution_count": 39,
     "metadata": {},
     "output_type": "execute_result"
    }
   ],
   "source": [
    "g4val"
   ]
  },
  {
   "cell_type": "code",
   "execution_count": 59,
   "id": "fa6ee41f",
   "metadata": {},
   "outputs": [
    {
     "data": {
      "image/png": "[encoded data removed]",
      "text/plain": [
       "<Figure size 576x396 with 1 Axes>"
      ]
     },
     "metadata": {
      "needs_background": "light"
     },
     "output_type": "display_data"
    }
   ],
   "source": [
    "fig, ax = plt.subplots(1,1, figsize=(8, 5.5))\n",
    "for i in range(len(MZpVal)):\n",
    "    ax.plot(g4val, xsecHadronic_over_g4[i], label = rf\"$M_{{Z^\\prime}} = {MZpVal[i]*1e-3:.1f}\\,\\mathrm{{TeV}}$\", color = plt.cm.viridis(i/len(MZpVal)))\n",
    "ax.set_title(r\"$\\sigma_{\\rm BW}/\\sigma_{\\rm NWA}$ at lepton colliders\", fontsize = 18)\n",
    "ax.set_xlabel(r\"$g_4$\", fontsize = 18)\n",
    "ax.set_ylabel(r\"$\\sigma_{\\rm BW}/\\sigma_{\\rm NWA}$\", fontsize = 18)   \n",
    "ax.text(x = 3.5, y = 1.2, s = rf\"$ \\sqrt{{S_{{\\rm had}}}} = {np.sqrt(Shad)/1000:.0f}\\,\\mathrm{{TeV}}$\", fontsize = 18)\n",
    "#ax.set_xscale(\"log\")\n",
    "#ax.set_yscale(\"log\")\n",
    "ax.set_xlim(5e-4, 10)\n",
    "ax.set_ylim(1, 4)\n",
    "ax.legend(fontsize = 16)\n",
    "\n",
    "plt.show()"
   ]
  }
 ],
 "metadata": {
  "kernelspec": {
   "display_name": "Python 3",
   "language": "python",
   "name": "python3"
  },
  "language_info": {
   "codemirror_mode": {
    "name": "ipython",
    "version": 3
   },
   "file_extension": ".py",
   "mimetype": "text/x-python",
   "name": "python",
   "nbconvert_exporter": "python",
   "pygments_lexer": "ipython3",
   "version": "3.8.10"
  }
 },
 "nbformat": 4,
 "nbformat_minor": 5
}
